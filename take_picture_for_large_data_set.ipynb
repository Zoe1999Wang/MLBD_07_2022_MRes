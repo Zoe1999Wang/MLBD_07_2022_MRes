{
 "cells": [
  {
   "cell_type": "code",
   "execution_count": 4,
   "metadata": {},
   "outputs": [
    {
     "ename": "ThorlabsTLCameraTimeoutError",
     "evalue": "",
     "output_type": "error",
     "traceback": [
      "\u001b[1;31m---------------------------------------------------------------------------\u001b[0m",
      "\u001b[1;31mThorlabsTLCameraTimeoutError\u001b[0m              Traceback (most recent call last)",
      "\u001b[1;32mc:\\Users\\asus\\Desktop\\PWM\\take_picture.ipynb Cell 1\u001b[0m in \u001b[0;36m<cell line: 18>\u001b[1;34m()\u001b[0m\n\u001b[0;32m     <a href='vscode-notebook-cell:/c%3A/Users/asus/Desktop/PWM/take_picture.ipynb#ch0000000?line=22'>23</a>\u001b[0m time\u001b[39m.\u001b[39msleep(\u001b[39m0.1\u001b[39m) \n\u001b[0;32m     <a href='vscode-notebook-cell:/c%3A/Users/asus/Desktop/PWM/take_picture.ipynb#ch0000000?line=23'>24</a>\u001b[0m fig_name \u001b[39m=\u001b[39m \u001b[39m'\u001b[39m\u001b[39mpwm=\u001b[39m\u001b[39m'\u001b[39m\u001b[39m+\u001b[39m\u001b[39mstr\u001b[39m(\u001b[39mint\u001b[39m(A[\u001b[39m0\u001b[39m]))\u001b[39m+\u001b[39m\u001b[39m'\u001b[39m\u001b[39m-\u001b[39m\u001b[39m'\u001b[39m\u001b[39m+\u001b[39m\u001b[39mstr\u001b[39m(\u001b[39mint\u001b[39m(A[\u001b[39m1\u001b[39m]))\u001b[39m+\u001b[39m\u001b[39m'\u001b[39m\u001b[39m-\u001b[39m\u001b[39m'\u001b[39m\u001b[39m+\u001b[39m\u001b[39mstr\u001b[39m(\u001b[39mint\u001b[39m(A[\u001b[39m2\u001b[39m]))\u001b[39m+\u001b[39m\u001b[39m'\u001b[39m\u001b[39m-\u001b[39m\u001b[39m'\u001b[39m\u001b[39m+\u001b[39m\u001b[39mstr\u001b[39m(\u001b[39mint\u001b[39m(A[\u001b[39m3\u001b[39m]))\u001b[39m+\u001b[39m\u001b[39m'\u001b[39m\u001b[39m-\u001b[39m\u001b[39m'\u001b[39m\u001b[39m+\u001b[39m\u001b[39mstr\u001b[39m(\u001b[39mint\u001b[39m(A[\u001b[39m4\u001b[39m]))  \n\u001b[1;32m---> <a href='vscode-notebook-cell:/c%3A/Users/asus/Desktop/PWM/take_picture.ipynb#ch0000000?line=24'>25</a>\u001b[0m image_array \u001b[39m=\u001b[39m cam\u001b[39m.\u001b[39;49mgrab(\u001b[39m1\u001b[39;49m)    \u001b[39m# grab 1 frame\u001b[39;00m\n\u001b[0;32m     <a href='vscode-notebook-cell:/c%3A/Users/asus/Desktop/PWM/take_picture.ipynb#ch0000000?line=25'>26</a>\u001b[0m image \u001b[39m=\u001b[39m Image\u001b[39m.\u001b[39mfromarray(image_array)\n\u001b[0;32m     <a href='vscode-notebook-cell:/c%3A/Users/asus/Desktop/PWM/take_picture.ipynb#ch0000000?line=26'>27</a>\u001b[0m mkdir(\u001b[39mr\u001b[39m\u001b[39m'\u001b[39m\u001b[39mC:\u001b[39m\u001b[39m\\\u001b[39m\u001b[39mUsers\u001b[39m\u001b[39m\\\u001b[39m\u001b[39masus\u001b[39m\u001b[39m\\\u001b[39m\u001b[39mDesktop\u001b[39m\u001b[39m\\\u001b[39m\u001b[39mM3\u001b[39m\u001b[39m'\u001b[39m)\n",
      "File \u001b[1;32mc:\\Users\\asus\\AppData\\Local\\Programs\\Python\\Python310\\lib\\site-packages\\pylablib\\devices\\interface\\camera.py:663\u001b[0m, in \u001b[0;36mICamera.grab\u001b[1;34m(self, nframes, frame_timeout, missing_frame, return_info, buff_size)\u001b[0m\n\u001b[0;32m    661\u001b[0m \u001b[39mtry\u001b[39;00m:\n\u001b[0;32m    662\u001b[0m     \u001b[39mwhile\u001b[39;00m nacq\u001b[39m<\u001b[39mnframes:\n\u001b[1;32m--> 663\u001b[0m         \u001b[39mself\u001b[39;49m\u001b[39m.\u001b[39;49mwait_for_frame(timeout\u001b[39m=\u001b[39;49mframe_timeout)\n\u001b[0;32m    664\u001b[0m         \u001b[39mif\u001b[39;00m return_info:\n\u001b[0;32m    665\u001b[0m             new_frames,new_info,rng\u001b[39m=\u001b[39m\u001b[39mself\u001b[39m\u001b[39m.\u001b[39mread_multiple_images(missing_frame\u001b[39m=\u001b[39mmissing_frame,return_info\u001b[39m=\u001b[39m\u001b[39mTrue\u001b[39;00m,return_rng\u001b[39m=\u001b[39m\u001b[39mTrue\u001b[39;00m)\n",
      "File \u001b[1;32mc:\\Users\\asus\\AppData\\Local\\Programs\\Python\\Python310\\lib\\site-packages\\pylablib\\core\\devio\\interface.py:664\u001b[0m, in \u001b[0;36muse_parameters.<locals>.wrapper.<locals>.wrapped\u001b[1;34m(*args, **kwargs)\u001b[0m\n\u001b[0;32m    661\u001b[0m \u001b[39m@functools\u001b[39m\u001b[39m.\u001b[39mwraps(func)\n\u001b[0;32m    662\u001b[0m \u001b[39mdef\u001b[39;00m \u001b[39mwrapped\u001b[39m(\u001b[39m*\u001b[39margs, \u001b[39m*\u001b[39m\u001b[39m*\u001b[39mkwargs):\n\u001b[0;32m    663\u001b[0m     all_args\u001b[39m=\u001b[39mparse_args(args,kwargs)\n\u001b[1;32m--> 664\u001b[0m     res\u001b[39m=\u001b[39mfunc(\u001b[39m*\u001b[39m\u001b[39m*\u001b[39mall_args)\n\u001b[0;32m    665\u001b[0m     \u001b[39mreturn\u001b[39;00m parse_reply(res,args,kwargs)\n",
      "File \u001b[1;32mc:\\Users\\asus\\AppData\\Local\\Programs\\Python\\Python310\\lib\\site-packages\\pylablib\\devices\\interface\\camera.py:262\u001b[0m, in \u001b[0;36mICamera.wait_for_frame\u001b[1;34m(self, since, nframes, timeout, error_on_stopped)\u001b[0m\n\u001b[0;32m    260\u001b[0m         to\u001b[39m=\u001b[39mfto \u001b[39mif\u001b[39;00m to \u001b[39mis\u001b[39;00m \u001b[39mNone\u001b[39;00m \u001b[39melse\u001b[39;00m \u001b[39mmin\u001b[39m(to,fto)\n\u001b[0;32m    261\u001b[0m     \u001b[39mif\u001b[39;00m to \u001b[39mis\u001b[39;00m \u001b[39mnot\u001b[39;00m \u001b[39mNone\u001b[39;00m \u001b[39mand\u001b[39;00m to\u001b[39m<\u001b[39m\u001b[39m=\u001b[39m\u001b[39m0\u001b[39m:\n\u001b[1;32m--> 262\u001b[0m         \u001b[39mraise\u001b[39;00m \u001b[39mself\u001b[39m\u001b[39m.\u001b[39mTimeoutError\n\u001b[0;32m    263\u001b[0m     \u001b[39mself\u001b[39m\u001b[39m.\u001b[39m_wait_for_next_frame(timeout\u001b[39m=\u001b[39mto,idx\u001b[39m=\u001b[39macquired_frames)\n\u001b[0;32m    264\u001b[0m \u001b[39mself\u001b[39m\u001b[39m.\u001b[39m_frame_counter\u001b[39m.\u001b[39mwait_done()\n",
      "\u001b[1;31mThorlabsTLCameraTimeoutError\u001b[0m: "
     ]
    }
   ],
   "source": [
    "import csv\n",
    "import numpy as np\n",
    "import random\n",
    "import time\n",
    "from PIL import Image\n",
    "from imageio import imwrite,imread\n",
    "import os\n",
    "from pylablib.devices import Thorlabs\n",
    "\n",
    "def mkdir(path):\n",
    "\tfolder = os.path.exists(path)\n",
    "\tif not folder:                   \n",
    "\t\tos.makedirs(path)    \n",
    "\n",
    "from pylablib.devices import Thorlabs\n",
    "Thorlabs.list_cameras_tlcam()\n",
    "cam = Thorlabs.ThorlabsTLCamera(serial=\"14309\")\n",
    "cam.set_exposure(0.01) # set exposure to 100ms\n",
    "# frame = cam.snap() # grab a single frame\n",
    "cam.set_roi(0,600,0,600) # set 600x600px ROI in the upper left corner\n",
    "\n",
    "\n",
    "i=0\n",
    "while i<= 20000:\n",
    "    A = np.random.randint(low=0,high=1000,size=(5,1), dtype=np.int32)   # range form 0 to 1000\n",
    "    with open('PWM_test.csv', 'w', newline='') as file:\n",
    "        mywriter = csv.writer(file, delimiter=',')\n",
    "        mywriter.writerows(A)\n",
    "    time.sleep(0.1) \n",
    "    fig_name = 'pwm='+str(int(A[0]))+'-'+str(int(A[1]))+'-'+str(int(A[2]))+'-'+str(int(A[3]))+'-'+str(int(A[4])) +'-'+str(int(i))\n",
    "    image_array = cam.grab(1)    # grab 1 frame\n",
    "    image_array=np.array(image_array)\n",
    "    image_array=image_array.squeeze()\n",
    "    image = Image.fromarray(image_array)\n",
    "    mkdir(r'C:\\Users\\asus\\Desktop\\M4')\n",
    "    imwrite(r'C:\\Users\\asus\\Desktop\\M4\\{fig_name}.png'.format(fig_name=fig_name),image)\n",
    "    i=i+1\n",
    "\n",
    "j=0\n",
    "while j<= 20000:\n",
    "    #A = np.array([[0],[0],[0],[0],[0]], dtype=np.int32)\n",
    "    A = np.random.randint(low=0,high=2000,size=(5,1), dtype=np.int32)   # range form 0 to 2000\n",
    "    with open('PWM_test.csv', 'w', newline='') as file:\n",
    "        mywriter = csv.writer(file, delimiter=',')\n",
    "        mywriter.writerows(A)\n",
    "    time.sleep(0.1) \n",
    "    fig_name = 'pwm='+str(int(A[0]))+'-'+str(int(A[1]))+'-'+str(int(A[2]))+'-'+str(int(A[3]))+'-'+str(int(A[4])) +'-'+str(int(j))\n",
    "    image_array = cam.grab(1)    # grab 1 frame\n",
    "    image_array=np.array(image_array)\n",
    "    image_array=image_array.squeeze()\n",
    "    image = Image.fromarray(image_array)\n",
    "    mkdir(r'C:\\Users\\asus\\Desktop\\M5')\n",
    "    imwrite(r'C:\\Users\\asus\\Desktop\\M5\\{fig_name}.png'.format(fig_name=fig_name),image)\n",
    "    j=j+1\n",
    "\n",
    "k=0\n",
    "while i<= 20000:\n",
    "    #A = np.array([[0],[0],[0],[0],[0]], dtype=np.int32)\n",
    "    A = np.random.randint(low=0,high=3000,size=(5,1), dtype=np.int32)   # range form 0 to 3000\n",
    "    with open('PWM_test.csv', 'w', newline='') as file:\n",
    "        mywriter = csv.writer(file, delimiter=',')\n",
    "        mywriter.writerows(A)\n",
    "    time.sleep(0.1) \n",
    "    fig_name = 'pwm='+str(int(A[0]))+'-'+str(int(A[1]))+'-'+str(int(A[2]))+'-'+str(int(A[3]))+'-'+str(int(A[4])) +'-'+str(int(k))\n",
    "    image_array = cam.grab(1)    # grab 1 frame\n",
    "    image_array=np.array(image_array)\n",
    "    image_array=image_array.squeeze()\n",
    "    image = Image.fromarray(image_array)\n",
    "    mkdir(r'C:\\Users\\asus\\Desktop\\M6')\n",
    "    imwrite(r'C:\\Users\\asus\\Desktop\\M6\\{fig_name}.png'.format(fig_name=fig_name),image)\n",
    "    k=k+1\n",
    "\n",
    "l=0\n",
    "while i<= 20000:\n",
    "    #A = np.array([[0],[0],[0],[0],[0]], dtype=np.int32)\n",
    "    A = np.random.randint(low=0,high=4095,size=(5,1), dtype=np.int32)   # range form 0 to 4095\n",
    "    with open('PWM_test.csv', 'w', newline='') as file:\n",
    "        mywriter = csv.writer(file, delimiter=',')\n",
    "        mywriter.writerows(A)\n",
    "    time.sleep(0.1) \n",
    "    fig_name = 'pwm='+str(int(A[0]))+'-'+str(int(A[1]))+'-'+str(int(A[2]))+'-'+str(int(A[3]))+'-'+str(int(A[4])) +'-'+str(int(l))\n",
    "    image_array = cam.grab(1)    # grab 1 frame\n",
    "    image_array=np.array(image_array)\n",
    "    image_array=image_array.squeeze()\n",
    "    image = Image.fromarray(image_array)\n",
    "    mkdir(r'C:\\Users\\asus\\Desktop\\M7')\n",
    "    imwrite(r'C:\\Users\\asus\\Desktop\\M7\\{fig_name}.png'.format(fig_name=fig_name),image)\n",
    "    l=l+1"
   ]
  },
  {
   "cell_type": "code",
   "execution_count": 6,
   "metadata": {},
   "outputs": [],
   "source": [
    "cam.close()"
   ]
  }
 ],
 "metadata": {
  "kernelspec": {
   "display_name": "Python 3 (ipykernel)",
   "language": "python",
   "name": "python3"
  },
  "language_info": {
   "codemirror_mode": {
    "name": "ipython",
    "version": 3
   },
   "file_extension": ".py",
   "mimetype": "text/x-python",
   "name": "python",
   "nbconvert_exporter": "python",
   "pygments_lexer": "ipython3",
   "version": "3.9.7"
  },
  "vscode": {
   "interpreter": {
    "hash": "876db7d3f8682b7e4c5477e5f1e2dc2bd1b19fe05d9aabd59218369070754b39"
   }
  }
 },
 "nbformat": 4,
 "nbformat_minor": 2
}
